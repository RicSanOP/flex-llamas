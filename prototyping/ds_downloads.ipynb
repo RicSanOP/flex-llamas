{
 "cells": [
  {
   "cell_type": "code",
   "execution_count": null,
   "id": "6f77474a-880d-4a8a-a5a5-549b4126f240",
   "metadata": {},
   "outputs": [],
   "source": []
  },
  {
   "cell_type": "code",
   "execution_count": null,
   "id": "265e0706-ad5a-4a50-bfd8-e85334c8cd74",
   "metadata": {},
   "outputs": [],
   "source": []
  },
  {
   "cell_type": "code",
   "execution_count": null,
   "id": "0411f6e4-8610-4b74-be46-09c2ccc8175c",
   "metadata": {},
   "outputs": [],
   "source": []
  },
  {
   "cell_type": "code",
   "execution_count": 9,
   "id": "40f10a09-a6a8-4f5f-a36e-6f1f442fff25",
   "metadata": {},
   "outputs": [],
   "source": [
    "import kagglehub"
   ]
  },
  {
   "cell_type": "code",
   "execution_count": 54,
   "id": "b7a890b3-3c8e-4a62-9a3b-0064e8df8c93",
   "metadata": {
    "scrolled": true
   },
   "outputs": [],
   "source": [
    "titanic_ds_path = kagglehub.dataset_download('yasserh/titanic-dataset')\n",
    "!ln -s {titanic_ds_path} /home/nebius/prototyping/datasets/titanic "
   ]
  },
  {
   "cell_type": "code",
   "execution_count": 53,
   "id": "8cd12919-ee36-4178-b48f-bd6456cdcf10",
   "metadata": {},
   "outputs": [],
   "source": [
    "kingscounty_ds_path = kagglehub.dataset_download(\"harlfoxem/housesalesprediction\")\n",
    "!ln -s {kingscounty_ds_path} /home/nebius/prototyping/datasets/kingscounty"
   ]
  },
  {
   "cell_type": "code",
   "execution_count": null,
   "id": "fb288d30-988e-428b-a6d9-7e8d323cd166",
   "metadata": {},
   "outputs": [],
   "source": []
  },
  {
   "cell_type": "code",
   "execution_count": null,
   "id": "ca1d7e90-498d-4acb-883c-2e74a441767c",
   "metadata": {},
   "outputs": [],
   "source": []
  },
  {
   "cell_type": "code",
   "execution_count": null,
   "id": "3b371e8c-d152-431b-a390-d6b71fa5edbe",
   "metadata": {},
   "outputs": [],
   "source": []
  },
  {
   "cell_type": "code",
   "execution_count": 45,
   "id": "a7be97d7-ca73-4012-b2a1-e2e894a790b3",
   "metadata": {},
   "outputs": [
    {
     "name": "stdout",
     "output_type": "stream",
     "text": [
      "/home/nebius/prototyping\n"
     ]
    }
   ],
   "source": [
    "!pwd"
   ]
  },
  {
   "cell_type": "code",
   "execution_count": 55,
   "id": "d87422be-0ed9-47a3-bc03-68c8cdcbac51",
   "metadata": {},
   "outputs": [
    {
     "name": "stdout",
     "output_type": "stream",
     "text": [
      "\u001b[01;34mdatasets\u001b[0m\n",
      "├── \u001b[01;36mkingscounty\u001b[0m -> \u001b[01;34m/home/nebius/.cache/kagglehub/datasets/harlfoxem/housesalesprediction/versions/1\u001b[0m\n",
      "│   ├── \u001b[01;36m1\u001b[0m -> \u001b[01;34m/home/nebius/.cache/kagglehub/datasets/harlfoxem/housesalesprediction/versions/1\u001b[0m  [recursive, not followed]\n",
      "│   └── kc_house_data.csv\n",
      "└── \u001b[01;36mtitanic\u001b[0m -> \u001b[01;34m/home/nebius/.cache/kagglehub/datasets/yasserh/titanic-dataset/versions/1\u001b[0m\n",
      "    ├── \u001b[01;36m1\u001b[0m -> \u001b[01;34m/home/nebius/.cache/kagglehub/datasets/yasserh/titanic-dataset/versions/1\u001b[0m  [recursive, not followed]\n",
      "    ├── \u001b[01;34mdatasets\u001b[0m\n",
      "    └── Titanic-Dataset.csv\n",
      "\n",
      "5 directories, 2 files\n"
     ]
    }
   ],
   "source": [
    "!tree -alR datasets"
   ]
  },
  {
   "cell_type": "code",
   "execution_count": null,
   "id": "0d9c4399-b70b-4f35-a2cb-3edcdd794364",
   "metadata": {},
   "outputs": [],
   "source": []
  },
  {
   "cell_type": "code",
   "execution_count": 52,
   "id": "a16a83ae-4aa9-437b-83f6-7884b4e0748e",
   "metadata": {},
   "outputs": [],
   "source": [
    "import numpy as np\n",
    "import pandas as pd"
   ]
  },
  {
   "cell_type": "code",
   "execution_count": null,
   "id": "8d84e381-c1cd-4b0c-a7a7-5b29bb14b979",
   "metadata": {},
   "outputs": [],
   "source": []
  },
  {
   "cell_type": "code",
   "execution_count": null,
   "id": "149d75d7-f238-474f-b762-d611f8536e4d",
   "metadata": {},
   "outputs": [],
   "source": []
  },
  {
   "cell_type": "code",
   "execution_count": 41,
   "id": "5a8e0c43-f172-4e44-b80b-4a9c63cb9208",
   "metadata": {},
   "outputs": [
    {
     "name": "stdout",
     "output_type": "stream",
     "text": [
      "datasets  Titanic-Dataset.csv\n"
     ]
    }
   ],
   "source": [
    "!ls datasets/titanic"
   ]
  },
  {
   "cell_type": "code",
   "execution_count": null,
   "id": "36c68c49-16ca-4260-bb16-6c9205c65718",
   "metadata": {},
   "outputs": [],
   "source": []
  },
  {
   "cell_type": "code",
   "execution_count": 31,
   "id": "e7e0f8ff-5f74-4601-9cad-b7fcc3eed2a3",
   "metadata": {},
   "outputs": [
    {
     "data": {
      "text/plain": [
       "['Callable',\n",
       " 'MultiImplRegistry',\n",
       " '__builtins__',\n",
       " '__cached__',\n",
       " '__doc__',\n",
       " '__file__',\n",
       " '__loader__',\n",
       " '__name__',\n",
       " '__package__',\n",
       " '__spec__',\n",
       " 'competition_resolver',\n",
       " 'dataset_resolver',\n",
       " 'model_resolver']"
      ]
     },
     "execution_count": 31,
     "metadata": {},
     "output_type": "execute_result"
    }
   ],
   "source": [
    "dir(kagglehub.datasets.registry)"
   ]
  },
  {
   "cell_type": "code",
   "execution_count": 29,
   "id": "0676fdc7-64dd-4468-b8b4-495fe9acd345",
   "metadata": {},
   "outputs": [
    {
     "data": {
      "text/plain": [
       "['DEFAULT_IGNORE_PATTERNS',\n",
       " 'EXTRA_CONSOLE_BLOCK',\n",
       " 'Optional',\n",
       " 'Union',\n",
       " '__builtins__',\n",
       " '__cached__',\n",
       " '__doc__',\n",
       " '__file__',\n",
       " '__loader__',\n",
       " '__name__',\n",
       " '__package__',\n",
       " '__spec__',\n",
       " 'create_dataset_or_version',\n",
       " 'dataset_download',\n",
       " 'dataset_upload',\n",
       " 'logger',\n",
       " 'logging',\n",
       " 'normalize_patterns',\n",
       " 'parse_dataset_handle',\n",
       " 'registry',\n",
       " 'upload_files_and_directories']"
      ]
     },
     "execution_count": 29,
     "metadata": {},
     "output_type": "execute_result"
    }
   ],
   "source": [
    "dir(kagglehub.datasets)"
   ]
  },
  {
   "cell_type": "code",
   "execution_count": 27,
   "id": "da32a6fb-7e16-4ed5-8a77-a1d8074bc1d6",
   "metadata": {},
   "outputs": [
    {
     "data": {
      "text/plain": [
       "['__builtins__',\n",
       " '__cached__',\n",
       " '__doc__',\n",
       " '__file__',\n",
       " '__loader__',\n",
       " '__name__',\n",
       " '__package__',\n",
       " '__path__',\n",
       " '__spec__',\n",
       " '__version__',\n",
       " 'auth',\n",
       " 'cache',\n",
       " 'clients',\n",
       " 'colab_cache_resolver',\n",
       " 'competition',\n",
       " 'competition_download',\n",
       " 'config',\n",
       " 'dataset_download',\n",
       " 'dataset_upload',\n",
       " 'datasets',\n",
       " 'datasets_helpers',\n",
       " 'env',\n",
       " 'exceptions',\n",
       " 'gcs_upload',\n",
       " 'handle',\n",
       " 'http_resolver',\n",
       " 'integrity',\n",
       " 'kaggle_cache_resolver',\n",
       " 'kagglehub',\n",
       " 'logger',\n",
       " 'login',\n",
       " 'model_download',\n",
       " 'model_upload',\n",
       " 'models',\n",
       " 'models_helpers',\n",
       " 'registry',\n",
       " 'resolver',\n",
       " 'whoami']"
      ]
     },
     "execution_count": 27,
     "metadata": {},
     "output_type": "execute_result"
    }
   ],
   "source": [
    "dir(kagglehub)"
   ]
  },
  {
   "cell_type": "code",
   "execution_count": 25,
   "id": "507fc31b-0539-43dc-8f24-e7230220cd1f",
   "metadata": {},
   "outputs": [
    {
     "name": "stdout",
     "output_type": "stream",
     "text": [
      "cat: datasets/titanic: Is a directory\n"
     ]
    }
   ],
   "source": []
  },
  {
   "cell_type": "code",
   "execution_count": null,
   "id": "2d87f5b5-21de-470b-9a65-ad7a7b38dbb0",
   "metadata": {},
   "outputs": [],
   "source": []
  },
  {
   "cell_type": "code",
   "execution_count": null,
   "id": "65da79be-9150-4fb3-ad29-39b6dd2b9d1f",
   "metadata": {},
   "outputs": [],
   "source": []
  },
  {
   "cell_type": "code",
   "execution_count": null,
   "id": "970374bd-c366-46af-8485-d9a154352e9d",
   "metadata": {},
   "outputs": [
    {
     "data": {
      "text/plain": [
       "3"
      ]
     },
     "execution_count": 7,
     "metadata": {},
     "output_type": "execute_result"
    }
   ],
   "source": [
    "# Download latest version\n",
    "path = kagglehub.dataset_download(\"yasserh/titanic-dataset\")\n",
    "\n",
    "print(\"Path to dataset files:\", path)"
   ]
  },
  {
   "cell_type": "code",
   "execution_count": null,
   "id": "76d6d42f-f8fc-4eb5-9fb2-bd8cc6666223",
   "metadata": {},
   "outputs": [],
   "source": []
  },
  {
   "cell_type": "code",
   "execution_count": null,
   "id": "b9a82c9c-8109-4cd4-9a54-9e425e80fb8f",
   "metadata": {},
   "outputs": [],
   "source": []
  },
  {
   "cell_type": "code",
   "execution_count": null,
   "id": "f8e3d78b-ce21-445c-8f8a-bcff61f14a0f",
   "metadata": {},
   "outputs": [],
   "source": []
  }
 ],
 "metadata": {
  "kernelspec": {
   "display_name": "Python 3 (ipykernel)",
   "language": "python",
   "name": "python3"
  },
  "language_info": {
   "codemirror_mode": {
    "name": "ipython",
    "version": 3
   },
   "file_extension": ".py",
   "mimetype": "text/x-python",
   "name": "python",
   "nbconvert_exporter": "python",
   "pygments_lexer": "ipython3",
   "version": "3.10.12"
  }
 },
 "nbformat": 4,
 "nbformat_minor": 5
}
